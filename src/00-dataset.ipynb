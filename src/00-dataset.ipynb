{
 "cells": [
  {
   "cell_type": "markdown",
   "metadata": {
    "colab_type": "text",
    "id": "6XLg6uMKRtPL"
   },
   "source": [
    "# Dataset\n",
    "[sklearn.datasets](https://scikit-learn.org/stable/datasets/index.html)"
   ]
  },
  {
   "cell_type": "code",
   "execution_count": null,
   "metadata": {
    "colab": {},
    "colab_type": "code",
    "id": "MfJrhoXCRwq6"
   },
   "outputs": [],
   "source": [
    "from sklearn import datasets"
   ]
  },
  {
   "cell_type": "markdown",
   "metadata": {
    "colab_type": "text",
    "id": "IkcH70GjTMRl"
   },
   "source": [
    "### アヤメの分類"
   ]
  },
  {
   "cell_type": "code",
   "execution_count": null,
   "metadata": {
    "colab": {},
    "colab_type": "code",
    "id": "jqJqAZR9OMoy"
   },
   "outputs": [],
   "source": [
    "iris = datasets.load_iris()"
   ]
  },
  {
   "cell_type": "code",
   "execution_count": null,
   "metadata": {
    "colab": {
     "base_uri": "https://localhost:8080/",
     "height": 34
    },
    "colab_type": "code",
    "id": "dRC6PAlORr3S",
    "outputId": "c66cae17-12a8-4d1b-9b13-7e875f50c062"
   },
   "outputs": [
    {
     "name": "stdout",
     "output_type": "stream",
     "text": [
      "<class 'sklearn.utils.Bunch'> ['DESCR', 'data', 'feature_names', 'filename', 'target', 'target_names']\n"
     ]
    }
   ],
   "source": [
    "print(type(iris), dir(iris))"
   ]
  },
  {
   "cell_type": "code",
   "execution_count": null,
   "metadata": {
    "colab": {
     "base_uri": "https://localhost:8080/",
     "height": 102
    },
    "colab_type": "code",
    "id": "DSXP2qtXTpCs",
    "outputId": "41cd2d94-2ff1-48f7-a2fc-43511546a2a6"
   },
   "outputs": [
    {
     "name": "stdout",
     "output_type": "stream",
     "text": [
      "data <class 'numpy.ndarray'>\n",
      "feature_names <class 'list'>\n",
      "filename <class 'str'>\n",
      "target <class 'numpy.ndarray'>\n",
      "target_names <class 'numpy.ndarray'>\n"
     ]
    }
   ],
   "source": [
    "print(\"data\", type(iris.data))\n",
    "print(\"feature_names\", type(iris.feature_names))\n",
    "print(\"filename\", type(iris.filename))\n",
    "print(\"target\", type(iris.target))\n",
    "print(\"target_names\", type(iris.target_names))"
   ]
  },
  {
   "cell_type": "code",
   "execution_count": null,
   "metadata": {
    "colab": {
     "base_uri": "https://localhost:8080/",
     "height": 102
    },
    "colab_type": "code",
    "id": "Y8jhZoKCTYgW",
    "outputId": "9171342e-8cbd-4039-9e26-4d3bb5042f8f"
   },
   "outputs": [
    {
     "name": "stdout",
     "output_type": "stream",
     "text": [
      "data (150, 4)\n",
      "feature_names ['sepal length (cm)', 'sepal width (cm)', 'petal length (cm)', 'petal width (cm)']\n",
      "filename /usr/local/lib/python3.6/dist-packages/sklearn/datasets/data/iris.csv\n",
      "target (150,)\n",
      "target_names ['setosa' 'versicolor' 'virginica']\n"
     ]
    }
   ],
   "source": [
    "print(\"data\", iris.data.shape)\n",
    "print(\"feature_names\", iris.feature_names)\n",
    "print(\"filename\", iris.filename)\n",
    "print(\"target\", iris.target.shape)\n",
    "print(\"target_names\", iris.target_names)"
   ]
  },
  {
   "cell_type": "markdown",
   "metadata": {
    "colab_type": "text",
    "id": "K7-sqtxxU9uQ"
   },
   "source": [
    "sepal:がく, petal:花弁\n",
    "\n",
    "\n",
    "| setosa | versicolor | virginica | \n",
    "| ---- | ---- | ---- |\n",
    "| <img src=https://upload.wikimedia.org/wikipedia/commons/8/85/Iris_setosa01.jpg width=\"200\"> | <img src=https://upload.wikimedia.org/wikipedia/commons/2/27/Blue_Flag%2C_Ottawa.jpg width=\"200\"> | <img src=https://upload.wikimedia.org/wikipedia/commons/f/f8/Iris_virginica_2.jpg width=\"200\"> |\n",
    "\n"
   ]
  },
  {
   "cell_type": "markdown",
   "metadata": {
    "colab_type": "text",
    "id": "N367sVCGR1fy"
   },
   "source": [
    "### 手書き文字認識"
   ]
  },
  {
   "cell_type": "code",
   "execution_count": null,
   "metadata": {
    "colab": {},
    "colab_type": "code",
    "id": "lR7dQ1vuRpXe"
   },
   "outputs": [],
   "source": [
    "digits = datasets.load_digits()"
   ]
  },
  {
   "cell_type": "code",
   "execution_count": null,
   "metadata": {
    "colab": {
     "base_uri": "https://localhost:8080/",
     "height": 34
    },
    "colab_type": "code",
    "id": "J4x8MGApPYs-",
    "outputId": "f26dff0b-7b36-4b9a-d594-a1b11bfaba3a"
   },
   "outputs": [
    {
     "name": "stdout",
     "output_type": "stream",
     "text": [
      "<class 'sklearn.utils.Bunch'> ['DESCR', 'data', 'images', 'target', 'target_names']\n"
     ]
    }
   ],
   "source": [
    "print(type(digits), dir(digits))"
   ]
  },
  {
   "cell_type": "code",
   "execution_count": null,
   "metadata": {
    "colab": {
     "base_uri": "https://localhost:8080/",
     "height": 85
    },
    "colab_type": "code",
    "id": "8YhOH5_BPjIp",
    "outputId": "47347ef1-1dd9-4fce-9b19-70c1f2fb65d3"
   },
   "outputs": [
    {
     "name": "stdout",
     "output_type": "stream",
     "text": [
      "data <class 'numpy.ndarray'>\n",
      "images <class 'numpy.ndarray'>\n",
      "target <class 'numpy.ndarray'>\n",
      "target_names <class 'numpy.ndarray'>\n"
     ]
    }
   ],
   "source": [
    "print(\"data\", type(digits.data))\n",
    "print(\"images\", type(digits.images))\n",
    "print(\"target\", type(digits.target))\n",
    "print(\"target_names\", type(digits.target_names))"
   ]
  },
  {
   "cell_type": "code",
   "execution_count": null,
   "metadata": {
    "colab": {
     "base_uri": "https://localhost:8080/",
     "height": 85
    },
    "colab_type": "code",
    "id": "lp6KB7c7P5_u",
    "outputId": "a9750783-79b7-4c97-f070-03b76ce5a309"
   },
   "outputs": [
    {
     "name": "stdout",
     "output_type": "stream",
     "text": [
      "data (1797, 64)\n",
      "images (1797, 8, 8)\n",
      "target (1797,)\n",
      "target_names [0 1 2 3 4 5 6 7 8 9]\n"
     ]
    }
   ],
   "source": [
    "print(\"data\", digits.data.shape)\n",
    "print(\"images\", digits.images.shape)\n",
    "print(\"target\", digits.target.shape)\n",
    "print(\"target_names\", digits.target_names)"
   ]
  },
  {
   "cell_type": "code",
   "execution_count": null,
   "metadata": {
    "colab": {
     "base_uri": "https://localhost:8080/",
     "height": 405
    },
    "colab_type": "code",
    "id": "uBaK4nXhYJTF",
    "outputId": "0b3a2910-11c7-43ce-e579-69f9328a0f45"
   },
   "outputs": [
    {
     "data": {
      "image/png": "[encoded data removed]",
      "text/plain": [
       "<Figure size 720x360 with 50 Axes>"
      ]
     },
     "metadata": {
      "needs_background": "light",
      "tags": []
     },
     "output_type": "display_data"
    },
    {
     "name": "stdout",
     "output_type": "stream",
     "text": [
      "[0 1 2 3 4 5 6 7 8 9 0 1 2 3 4 5 6 7 8 9 0 1 2 3 4 5 6 7 8 9 0 9 5 5 6 5 0\n",
      " 9 8 9 8 4 1 7 7 3 5 1 0 0]\n",
      "[ 0.  0.  5. 13.  9.  1.  0.  0.  0.  0. 13. 15. 10. 15.  5.  0.  0.  3.\n",
      " 15.  2.  0. 11.  8.  0.  0.  4. 12.  0.  0.  8.  8.  0.  0.  5.  8.  0.\n",
      "  0.  9.  8.  0.  0.  4. 11.  0.  1. 12.  7.  0.  0.  2. 14.  5. 10. 12.\n",
      "  0.  0.  0.  0.  6. 13. 10.  0.  0.  0.]\n"
     ]
    }
   ],
   "source": [
    "import matplotlib.pyplot as plt\n",
    "\n",
    "plt.figure(figsize=(10,5))  # 1000x500に設定\n",
    "for i, img in enumerate(digits.images[:50], 1):\n",
    "  plt.subplot(5,10,i)  # (全体の行, 全体の列, 左から番号振ったときに何番目か)\n",
    "  plt.imshow(img, cmap=\"gray\")\n",
    "  plt.axis('off')  # 軸削除\n",
    "plt.show()\n",
    "\n",
    "print(digits.target[:50])\n",
    "print(digits.data[0])  # maxが15なので2^4で1pixelあたり4bit?"
   ]
  },
  {
   "cell_type": "markdown",
   "metadata": {
    "colab_type": "text",
    "id": "gqvp6DQqgZLK"
   },
   "source": [
    "### 学習データとテストデータの分割"
   ]
  },
  {
   "cell_type": "code",
   "execution_count": null,
   "metadata": {
    "colab": {
     "base_uri": "https://localhost:8080/",
     "height": 51
    },
    "colab_type": "code",
    "id": "1NdC1H2Qgho5",
    "outputId": "9925666d-6a38-4170-88fe-e44e3f122a26"
   },
   "outputs": [
    {
     "name": "stdout",
     "output_type": "stream",
     "text": [
      "iris: train(135) test(15)\n",
      "digits: train(1618) test(179)\n"
     ]
    }
   ],
   "source": [
    "import random\n",
    "import numpy as np\n",
    "from sklearn import datasets\n",
    "\n",
    "random.seed(0)\n",
    "\n",
    "iris = datasets.load_iris()\n",
    "\n",
    "shuffle_idx = np.arange(len(iris.data))  # [0..150]データ数と同じサイズのインデックスのリスト\n",
    "random.shuffle(shuffle_idx)  # 順序をランダムに入れ替え\n",
    "\n",
    "# dataとtargetをshuffle_idxに従って並び替え\n",
    "# dataとtargetは対応しているので同じ順序で並び替える (個別にシャッフルしない)\n",
    "iris_data = iris.data[shuffle_idx]\n",
    "iris_target = iris.target[shuffle_idx]\n",
    "\n",
    "# 10%をテストデータに\n",
    "test_num = int(len(iris_data) * 0.1)\n",
    "\n",
    "iris_test_data = iris_data[:test_num]\n",
    "iris_test_target = iris_target[:test_num]\n",
    "\n",
    "iris_train_data = iris_data[test_num:]\n",
    "iris_train_target = iris_target[test_num:]\n",
    "\n",
    "print(f\"iris: train({len(iris_train_data)}) test({len(iris_test_data)})\")\n",
    "\n",
    "# 上と同じようにdigitsも\n",
    "digits = datasets.load_digits()\n",
    "\n",
    "shuffle_idx = np.arange(len(digits.data))\n",
    "random.shuffle(shuffle_idx)\n",
    "\n",
    "digits_data = digits.data[shuffle_idx]\n",
    "digits_target = digits.target[shuffle_idx]\n",
    "\n",
    "test_num = int(len(digits_data) * 0.1)\n",
    "\n",
    "digits_test_data = digits_data[:test_num]\n",
    "digits_test_target = digits_target[:test_num]\n",
    "\n",
    "digits_train_data = digits_data[test_num:]\n",
    "digits_train_target = digits_target[test_num:]\n",
    "\n",
    "print(f\"digits: train({len(digits_train_data)}) test({len(digits_test_data)})\")"
   ]
  }
 ],
 "metadata": {
  "colab": {
   "collapsed_sections": [],
   "name": "sklearn.ipynb",
   "provenance": []
  },
  "kernelspec": {
   "display_name": "Python 3",
   "language": "python",
   "name": "python3"
  },
  "language_info": {
   "codemirror_mode": {
    "name": "ipython",
    "version": 3
   },
   "file_extension": ".py",
   "mimetype": "text/x-python",
   "name": "python",
   "nbconvert_exporter": "python",
   "pygments_lexer": "ipython3",
   "version": "3.7.3"
  }
 },
 "nbformat": 4,
 "nbformat_minor": 4
}
