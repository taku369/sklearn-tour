{
 "cells": [
  {
   "cell_type": "markdown",
   "metadata": {
    "colab_type": "text",
    "id": "6XLg6uMKRtPL"
   },
   "source": [
    "# Dataset\n",
    "[sklearn.datasets](https://scikit-learn.org/stable/datasets/index.html)"
   ]
  },
  {
   "cell_type": "markdown",
   "metadata": {
    "colab_type": "text",
    "id": "gqvp6DQqgZLK"
   },
   "source": [
    "### 学習データとテストデータの分割"
   ]
  },
  {
   "cell_type": "code",
   "execution_count": 1,
   "metadata": {
    "colab": {
     "base_uri": "https://localhost:8080/",
     "height": 51
    },
    "colab_type": "code",
    "id": "1NdC1H2Qgho5",
    "outputId": "9925666d-6a38-4170-88fe-e44e3f122a26"
   },
   "outputs": [
    {
     "name": "stdout",
     "output_type": "stream",
     "text": [
      "iris: train(135) test(15)\n",
      "digits: train(1618) test(179)\n"
     ]
    }
   ],
   "source": [
    "import random\n",
    "import numpy as np\n",
    "from sklearn import datasets\n",
    "\n",
    "random.seed(0)\n",
    "\n",
    "iris = datasets.load_iris()\n",
    "\n",
    "shuffle_idx = np.arange(len(iris.data))  # [0..150]データ数と同じサイズのインデックスのリスト\n",
    "random.shuffle(shuffle_idx)  # 順序をランダムに入れ替え\n",
    "\n",
    "# dataとtargetをshuffle_idxに従って並び替え\n",
    "# dataとtargetは対応しているので同じ順序で並び替える (個別にシャッフルしない)\n",
    "iris_data = iris.data[shuffle_idx]\n",
    "iris_target = iris.target[shuffle_idx]\n",
    "\n",
    "# 10%をテストデータに\n",
    "test_num = int(len(iris_data) * 0.1)\n",
    "\n",
    "iris_test_data = iris_data[:test_num]\n",
    "iris_test_target = iris_target[:test_num]\n",
    "\n",
    "iris_train_data = iris_data[test_num:]\n",
    "iris_train_target = iris_target[test_num:]\n",
    "\n",
    "print(f\"iris: train({len(iris_train_data)}) test({len(iris_test_data)})\")\n",
    "\n",
    "# 上と同じようにdigitsも\n",
    "digits = datasets.load_digits()\n",
    "\n",
    "shuffle_idx = np.arange(len(digits.data))\n",
    "random.shuffle(shuffle_idx)\n",
    "\n",
    "digits_data = digits.data[shuffle_idx]\n",
    "digits_target = digits.target[shuffle_idx]\n",
    "\n",
    "test_num = int(len(digits_data) * 0.1)\n",
    "\n",
    "digits_test_data = digits_data[:test_num]\n",
    "digits_test_target = digits_target[:test_num]\n",
    "\n",
    "digits_train_data = digits_data[test_num:]\n",
    "digits_train_target = digits_target[test_num:]\n",
    "\n",
    "print(f\"digits: train({len(digits_train_data)}) test({len(digits_test_data)})\")"
   ]
  },
  {
   "cell_type": "markdown",
   "metadata": {
    "colab_type": "text",
    "id": "zWR3DIe5tezF"
   },
   "source": [
    "# SVM(support vector machine, サポートベクトルマシン)\n",
    "\n",
    "[sklearn.svm.LinearSVC](https://scikit-learn.org/stable/modules/generated/sklearn.svm.LinearSVC.html#sklearn.svm.LinearSVC)\n",
    "\n",
    "[sklearn.svm.SVC](https://scikit-learn.org/stable/modules/generated/sklearn.svm.SVC.html#sklearn.svm.SVC)\n",
    "\n",
    "[User Guide](https://scikit-learn.org/stable/modules/svm.html#svm-classification)"
   ]
  },
  {
   "cell_type": "code",
   "execution_count": 2,
   "metadata": {
    "colab": {
     "base_uri": "https://localhost:8080/",
     "height": 88
    },
    "colab_type": "code",
    "id": "YSTA0BOSjxp0",
    "outputId": "6428d40e-c20b-45c0-d7ca-439ee82dec06"
   },
   "outputs": [
    {
     "name": "stdout",
     "output_type": "stream",
     "text": [
      "1.0\n"
     ]
    },
    {
     "name": "stderr",
     "output_type": "stream",
     "text": [
      "/Users/fujino/.local/share/virtualenvs/sklean-trial-B-gOcSxw/lib/python3.7/site-packages/sklearn/svm/_base.py:977: ConvergenceWarning: Liblinear failed to converge, increase the number of iterations.\n",
      "  \"the number of iterations.\", ConvergenceWarning)\n"
     ]
    }
   ],
   "source": [
    "from sklearn.svm import LinearSVC\n",
    "\n",
    "model = LinearSVC()\n",
    "model.fit(iris_train_data, iris_train_target)\n",
    "\n",
    "print(model.score(iris_test_data, iris_test_target))"
   ]
  },
  {
   "cell_type": "code",
   "execution_count": 3,
   "metadata": {
    "colab": {
     "base_uri": "https://localhost:8080/",
     "height": 88
    },
    "colab_type": "code",
    "id": "rZiX24JflKjf",
    "outputId": "e6f9d6fa-6d35-47b2-af31-b84a65e81f16"
   },
   "outputs": [
    {
     "name": "stdout",
     "output_type": "stream",
     "text": [
      "0.9553072625698324\n"
     ]
    },
    {
     "name": "stderr",
     "output_type": "stream",
     "text": [
      "/Users/fujino/.local/share/virtualenvs/sklean-trial-B-gOcSxw/lib/python3.7/site-packages/sklearn/svm/_base.py:977: ConvergenceWarning: Liblinear failed to converge, increase the number of iterations.\n",
      "  \"the number of iterations.\", ConvergenceWarning)\n"
     ]
    }
   ],
   "source": [
    "model = LinearSVC()\n",
    "model.fit(digits_train_data, digits_train_target)\n",
    "\n",
    "print(model.score(digits_test_data, digits_test_target))"
   ]
  },
  {
   "cell_type": "code",
   "execution_count": 4,
   "metadata": {
    "colab": {
     "base_uri": "https://localhost:8080/",
     "height": 153
    },
    "colab_type": "code",
    "id": "uDC_4PV-lVlV",
    "outputId": "eef9eaa9-4c37-49d4-9fb6-d8b52d2c15b6"
   },
   "outputs": [
    {
     "name": "stdout",
     "output_type": "stream",
     "text": [
      "linear\n",
      "1.0\n",
      "poly\n",
      "1.0\n",
      "rbf\n",
      "1.0\n",
      "sigmoid\n",
      "0.26666666666666666\n"
     ]
    }
   ],
   "source": [
    "from sklearn.svm import SVC\n",
    "\n",
    "for kernel in ['linear', 'poly', 'rbf', 'sigmoid']:\n",
    "  print(kernel)\n",
    "  model = SVC(kernel=kernel)\n",
    "  model.fit(iris_train_data, iris_train_target)\n",
    "  print(model.score(iris_test_data, iris_test_target))"
   ]
  },
  {
   "cell_type": "code",
   "execution_count": 5,
   "metadata": {
    "colab": {
     "base_uri": "https://localhost:8080/",
     "height": 153
    },
    "colab_type": "code",
    "id": "vIgsxZQ9mC6Z",
    "outputId": "75df7992-6e52-4767-fe3a-62cd121a2e4b"
   },
   "outputs": [
    {
     "name": "stdout",
     "output_type": "stream",
     "text": [
      "linear\n",
      "0.9776536312849162\n",
      "poly\n",
      "0.9888268156424581\n",
      "rbf\n",
      "0.9888268156424581\n",
      "sigmoid\n",
      "0.9217877094972067\n"
     ]
    }
   ],
   "source": [
    "from sklearn.svm import SVC\n",
    "\n",
    "for kernel in ['linear', 'poly', 'rbf', 'sigmoid']:\n",
    "  print(kernel)\n",
    "  model = SVC(kernel=kernel)\n",
    "  model.fit(digits_train_data, digits_train_target)\n",
    "  print(model.score(digits_test_data, digits_test_target))"
   ]
  }
 ],
 "metadata": {
  "colab": {
   "collapsed_sections": [],
   "name": "sklearn.ipynb",
   "provenance": []
  },
  "kernelspec": {
   "display_name": "Python 3",
   "language": "python",
   "name": "python3"
  },
  "language_info": {
   "codemirror_mode": {
    "name": "ipython",
    "version": 3
   },
   "file_extension": ".py",
   "mimetype": "text/x-python",
   "name": "python",
   "nbconvert_exporter": "python",
   "pygments_lexer": "ipython3",
   "version": "3.7.3"
  }
 },
 "nbformat": 4,
 "nbformat_minor": 4
}
