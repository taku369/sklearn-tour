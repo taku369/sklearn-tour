{
 "cells": [
  {
   "cell_type": "markdown",
   "metadata": {
    "colab_type": "text",
    "id": "6XLg6uMKRtPL"
   },
   "source": [
    "# Dataset\n",
    "[sklearn.datasets](https://scikit-learn.org/stable/datasets/index.html)"
   ]
  },
  {
   "cell_type": "markdown",
   "metadata": {
    "colab_type": "text",
    "id": "gqvp6DQqgZLK"
   },
   "source": [
    "### 学習データとテストデータの分割"
   ]
  },
  {
   "cell_type": "code",
   "execution_count": null,
   "metadata": {
    "colab": {
     "base_uri": "https://localhost:8080/",
     "height": 51
    },
    "colab_type": "code",
    "id": "1NdC1H2Qgho5",
    "outputId": "9925666d-6a38-4170-88fe-e44e3f122a26"
   },
   "outputs": [
    {
     "name": "stdout",
     "output_type": "stream",
     "text": [
      "iris: train(135) test(15)\n",
      "digits: train(1618) test(179)\n"
     ]
    }
   ],
   "source": [
    "import random\n",
    "import numpy as np\n",
    "from sklearn import datasets\n",
    "\n",
    "random.seed(0)\n",
    "\n",
    "iris = datasets.load_iris()\n",
    "\n",
    "shuffle_idx = np.arange(len(iris.data))  # [0..150]データ数と同じサイズのインデックスのリスト\n",
    "random.shuffle(shuffle_idx)  # 順序をランダムに入れ替え\n",
    "\n",
    "# dataとtargetをshuffle_idxに従って並び替え\n",
    "# dataとtargetは対応しているので同じ順序で並び替える (個別にシャッフルしない)\n",
    "iris_data = iris.data[shuffle_idx]\n",
    "iris_target = iris.target[shuffle_idx]\n",
    "\n",
    "# 10%をテストデータに\n",
    "test_num = int(len(iris_data) * 0.1)\n",
    "\n",
    "iris_test_data = iris_data[:test_num]\n",
    "iris_test_target = iris_target[:test_num]\n",
    "\n",
    "iris_train_data = iris_data[test_num:]\n",
    "iris_train_target = iris_target[test_num:]\n",
    "\n",
    "print(f\"iris: train({len(iris_train_data)}) test({len(iris_test_data)})\")\n",
    "\n",
    "# 上と同じようにdigitsも\n",
    "digits = datasets.load_digits()\n",
    "\n",
    "shuffle_idx = np.arange(len(digits.data))\n",
    "random.shuffle(shuffle_idx)\n",
    "\n",
    "digits_data = digits.data[shuffle_idx]\n",
    "digits_target = digits.target[shuffle_idx]\n",
    "\n",
    "test_num = int(len(digits_data) * 0.1)\n",
    "\n",
    "digits_test_data = digits_data[:test_num]\n",
    "digits_test_target = digits_target[:test_num]\n",
    "\n",
    "digits_train_data = digits_data[test_num:]\n",
    "digits_train_target = digits_target[test_num:]\n",
    "\n",
    "print(f\"digits: train({len(digits_train_data)}) test({len(digits_test_data)})\")"
   ]
  },
  {
   "cell_type": "markdown",
   "metadata": {
    "colab_type": "text",
    "id": "iWs4lrP9RzNT"
   },
   "source": [
    "# 決定木\n",
    "[sklearn.tree.DecisionTreeClassifier](https://scikit-learn.org/stable/modules/generated/sklearn.tree.DecisionTreeClassifier.html?highlight=decision%20tree#sklearn.tree.DecisionTreeClassifier)"
   ]
  },
  {
   "cell_type": "code",
   "execution_count": null,
   "metadata": {
    "colab": {
     "base_uri": "https://localhost:8080/",
     "height": 34
    },
    "colab_type": "code",
    "id": "fU4SPRD4R-JY",
    "outputId": "bc2b5514-f9d9-42e8-9d28-2b1e0935cca0"
   },
   "outputs": [
    {
     "name": "stdout",
     "output_type": "stream",
     "text": [
      "0.9333333333333333\n"
     ]
    }
   ],
   "source": [
    "from sklearn.tree import DecisionTreeClassifier\n",
    "\n",
    "model = DecisionTreeClassifier()\n",
    "model.fit(iris_train_data, iris_train_target)\n",
    "\n",
    "print(model.score(iris_test_data, iris_test_target))"
   ]
  },
  {
   "cell_type": "code",
   "execution_count": null,
   "metadata": {
    "colab": {
     "base_uri": "https://localhost:8080/",
     "height": 34
    },
    "colab_type": "code",
    "id": "DWUP9hMrV74w",
    "outputId": "dc2a0a69-5b2d-4b2e-a7d1-5a5dfce46f2d"
   },
   "outputs": [
    {
     "name": "stdout",
     "output_type": "stream",
     "text": [
      "0.8715083798882681\n"
     ]
    }
   ],
   "source": [
    "model = DecisionTreeClassifier()\n",
    "model.fit(digits_train_data, digits_train_target)\n",
    "\n",
    "print(model.score(digits_test_data, digits_test_target))"
   ]
  }
 ],
 "metadata": {
  "colab": {
   "collapsed_sections": [],
   "name": "sklearn.ipynb",
   "provenance": []
  },
  "kernelspec": {
   "display_name": "Python 3",
   "language": "python",
   "name": "python3"
  },
  "language_info": {
   "codemirror_mode": {
    "name": "ipython",
    "version": 3
   },
   "file_extension": ".py",
   "mimetype": "text/x-python",
   "name": "python",
   "nbconvert_exporter": "python",
   "pygments_lexer": "ipython3",
   "version": "3.7.3"
  }
 },
 "nbformat": 4,
 "nbformat_minor": 4
}
