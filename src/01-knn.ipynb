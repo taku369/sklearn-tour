{
 "cells": [
  {
   "cell_type": "markdown",
   "metadata": {
    "colab_type": "text",
    "id": "6XLg6uMKRtPL"
   },
   "source": [
    "# Dataset\n",
    "[sklearn.datasets](https://scikit-learn.org/stable/datasets/index.html)"
   ]
  },
  {
   "cell_type": "markdown",
   "metadata": {
    "colab_type": "text",
    "id": "gqvp6DQqgZLK"
   },
   "source": [
    "### 学習データとテストデータの分割"
   ]
  },
  {
   "cell_type": "code",
   "execution_count": 1,
   "metadata": {
    "colab": {
     "base_uri": "https://localhost:8080/",
     "height": 51
    },
    "colab_type": "code",
    "id": "1NdC1H2Qgho5",
    "outputId": "9925666d-6a38-4170-88fe-e44e3f122a26"
   },
   "outputs": [
    {
     "name": "stdout",
     "output_type": "stream",
     "text": [
      "iris: train(135) test(15)\n",
      "digits: train(1618) test(179)\n"
     ]
    }
   ],
   "source": [
    "import random\n",
    "import numpy as np\n",
    "from sklearn import datasets\n",
    "\n",
    "random.seed(0)\n",
    "\n",
    "iris = datasets.load_iris()\n",
    "\n",
    "shuffle_idx = np.arange(len(iris.data))  # [0..150]データ数と同じサイズのインデックスのリスト\n",
    "random.shuffle(shuffle_idx)  # 順序をランダムに入れ替え\n",
    "\n",
    "# dataとtargetをshuffle_idxに従って並び替え\n",
    "# dataとtargetは対応しているので同じ順序で並び替える (個別にシャッフルしない)\n",
    "iris_data = iris.data[shuffle_idx]\n",
    "iris_target = iris.target[shuffle_idx]\n",
    "\n",
    "# 10%をテストデータに\n",
    "test_num = int(len(iris_data) * 0.1)\n",
    "\n",
    "iris_test_data = iris_data[:test_num]\n",
    "iris_test_target = iris_target[:test_num]\n",
    "\n",
    "iris_train_data = iris_data[test_num:]\n",
    "iris_train_target = iris_target[test_num:]\n",
    "\n",
    "print(f\"iris: train({len(iris_train_data)}) test({len(iris_test_data)})\")\n",
    "\n",
    "# 上と同じようにdigitsも\n",
    "digits = datasets.load_digits()\n",
    "\n",
    "shuffle_idx = np.arange(len(digits.data))\n",
    "random.shuffle(shuffle_idx)\n",
    "\n",
    "digits_data = digits.data[shuffle_idx]\n",
    "digits_target = digits.target[shuffle_idx]\n",
    "\n",
    "test_num = int(len(digits_data) * 0.1)\n",
    "\n",
    "digits_test_data = digits_data[:test_num]\n",
    "digits_test_target = digits_target[:test_num]\n",
    "\n",
    "digits_train_data = digits_data[test_num:]\n",
    "digits_train_target = digits_target[test_num:]\n",
    "\n",
    "print(f\"digits: train({len(digits_train_data)}) test({len(digits_test_data)})\")"
   ]
  },
  {
   "cell_type": "markdown",
   "metadata": {
    "colab_type": "text",
    "id": "pK5NRsXzcbJE"
   },
   "source": [
    "# kNN(k nearest neighbor, k最近傍法)\n",
    "+ [sklearn.neighbors](https://scikit-learn.org/stable/modules/classes.html#module-sklearn.neighbors)\n",
    "+ [sklern.neighbors.KneighborsClassifier](https://scikit-learn.org/stable/modules/generated/sklearn.neighbors.KNeighborsClassifier.html#sklearn.neighbors.KNeighborsClassifier)"
   ]
  },
  {
   "cell_type": "markdown",
   "metadata": {
    "colab_type": "text",
    "id": "8rod9CZXfYyH"
   },
   "source": [
    "### アルゴリズム\n",
    "+ データベース（学習データ）から似てる順(L2ノルム、内積など)にk個取り出す\n",
    "+ k個のクラスで多数決をとる（同率1位の場合はリジェクトしたりランダムに選んだりする）"
   ]
  },
  {
   "cell_type": "code",
   "execution_count": 3,
   "metadata": {
    "colab": {
     "base_uri": "https://localhost:8080/",
     "height": 464
    },
    "colab_type": "code",
    "id": "T2tD0T7kq8-s",
    "outputId": "41717b74-952f-4fd6-c3c3-feb00a95d399"
   },
   "outputs": [
    {
     "name": "stdout",
     "output_type": "stream",
     "text": [
      "クラス分類する画像を1枚選ぶ\n"
     ]
    },
    {
     "data": {
      "image/png": "[encoded data removed]",
      "text/plain": [
       "<Figure size 72x72 with 1 Axes>"
      ]
     },
     "metadata": {
      "needs_background": "light"
     },
     "output_type": "display_data"
    },
    {
     "name": "stdout",
     "output_type": "stream",
     "text": [
      "正解: 6\n",
      "\n",
      "学習データの中から似てる順に5枚選ぶ(metric:L2)\n"
     ]
    },
    {
     "data": {
      "image/png": "[encoded data removed]",
      "text/plain": [
       "<Figure size 360x72 with 5 Axes>"
      ]
     },
     "metadata": {
      "needs_background": "light"
     },
     "output_type": "display_data"
    },
    {
     "name": "stdout",
     "output_type": "stream",
     "text": [
      "[6 6 6 6 6]\n",
      "多数決\n",
      "→5票で最大なので「6」と予測\n",
      "→正解！\n",
      "\n",
      "学習データの中から似てる順に5枚選ぶ(metric:dot)\n"
     ]
    },
    {
     "data": {
      "image/png": "[encoded data removed]",
      "text/plain": [
       "<Figure size 360x72 with 5 Axes>"
      ]
     },
     "metadata": {
      "needs_background": "light"
     },
     "output_type": "display_data"
    },
    {
     "name": "stdout",
     "output_type": "stream",
     "text": [
      "[6 6 6 6 6]\n",
      "多数決\n",
      "→5票で最大なので「6」と予測\n",
      "→正解！\n",
      "\n"
     ]
    }
   ],
   "source": [
    "# 自前実装\n",
    "import matplotlib.pyplot as plt\n",
    "from collections import defaultdict\n",
    "\n",
    "print(f\"クラス分類する画像を1枚選ぶ\")\n",
    "test_ind = random.randrange(len(digits_test_data))\n",
    "input_img = digits_test_data[test_ind]\n",
    "gt_cls = digits_test_target[test_ind]\n",
    "# 画像表示\n",
    "plt.figure(figsize=(1,1))\n",
    "plt.imshow(input_img.reshape(8,8), cmap=\"gray\")\n",
    "plt.axis('off')\n",
    "plt.show()\n",
    "# クラス表示\n",
    "print(f\"正解: {gt_cls}\\n\")\n",
    "\n",
    "K=5\n",
    "for metric in [\"L2\", \"dot\"]:\n",
    "  print(f\"学習データの中から似てる順に{K}枚選ぶ(metric:{metric})\")\n",
    "  if metric == \"L2\":\n",
    "    distance = np.linalg.norm(digits_train_data - input_img, axis=1)  # 全学習データとのL2ノルム（低いほど似ている）\n",
    "    top_k_ind = np.argsort(distance)[:K]  # argsort:昇順ソート結果をindexで返す :Kで最初のK個を選ぶ\n",
    "  else:\n",
    "    similarity = np.dot(digits_train_data, input_img)  # 全学習データとの内積（高いほど似ている）\n",
    "    top_k_ind = np.argsort(similarity)[::-1][:K]  # argsort:昇順ソート結果をindexで返す :Kで最初のK個を選ぶ\n",
    "  # 画像表示\n",
    "  plt.figure(figsize=(K,1))\n",
    "  for i, data in enumerate(digits_train_data[top_k_ind], 1):\n",
    "    plt.subplot(1,K,i)\n",
    "    plt.imshow(data.reshape(8, 8), cmap=\"gray\")\n",
    "    plt.axis('off')\n",
    "  plt.show()\n",
    "  # クラス表示\n",
    "  print(digits_train_target[top_k_ind])\n",
    "\n",
    "  print(f\"多数決\")\n",
    "  vote = defaultdict(int)\n",
    "  for cls in digits_train_target[top_k_ind]:\n",
    "    vote[cls] += 1\n",
    "  pred_cls, vote_num = max(vote.items(), key=lambda x: x[1])\n",
    "  print(f\"→{vote_num}票で最大なので「{pred_cls}」と予測\")\n",
    "\n",
    "  gt_cls = digits_test_target[test_ind]\n",
    "  if pred_cls == gt_cls:\n",
    "    print(\"→正解！\\n\")\n",
    "  else:\n",
    "    print(\"→不正解...\\n\")"
   ]
  },
  {
   "cell_type": "code",
   "execution_count": 4,
   "metadata": {
    "colab": {
     "base_uri": "https://localhost:8080/",
     "height": 102
    },
    "colab_type": "code",
    "id": "nzuQ98V0fokS",
    "outputId": "5fb8cabd-61ca-4558-a3fc-d0db2bdd9c1b"
   },
   "outputs": [
    {
     "name": "stdout",
     "output_type": "stream",
     "text": [
      "prediction: [0 1 1 2 1 0 1 2 1 0 0 2 0 2 0]\n",
      "ground truth: [0 1 1 2 1 0 1 2 2 0 0 2 0 2 0]\n",
      "accuracy: 0.9333333333333333\n",
      "\n",
      "0.9333333333333333\n"
     ]
    }
   ],
   "source": [
    "# sklearnによる実装\n",
    "#  内部で近傍探索の最適化などもやっている(KD-treeの構築など)\n",
    "from sklearn.neighbors import KNeighborsClassifier\n",
    "\n",
    "# train\n",
    "model = KNeighborsClassifier(n_neighbors=3)  # k=3\n",
    "model.fit(iris_train_data, iris_train_target)  # モデルの作成(デフォルトはL2ノルム)\n",
    "\n",
    "# eval\n",
    "pred = model.predict(iris_test_data)\n",
    "print(f\"prediction: {pred}\")\n",
    "print(f\"ground truth: {iris_test_target}\")\n",
    "print(f\"accuracy: {sum(pred==iris_test_target) / len(iris_test_target)}\")\n",
    "\n",
    "print()\n",
    "\n",
    "# scoreを使えば評価まで一気に計算できる\n",
    "print(model.score(iris_test_data, iris_test_target))"
   ]
  },
  {
   "cell_type": "code",
   "execution_count": 5,
   "metadata": {
    "colab": {
     "base_uri": "https://localhost:8080/",
     "height": 714
    },
    "colab_type": "code",
    "id": "KvNYLBeMn4Wv",
    "outputId": "e19c645e-1cf8-4836-b471-5171dbc5ce7d"
   },
   "outputs": [
    {
     "name": "stdout",
     "output_type": "stream",
     "text": [
      "iris\n",
      "k=1\t0.93\n",
      "k=2\t0.93\n",
      "k=3\t0.93\n",
      "k=4\t0.93\n",
      "k=5\t1.00\n",
      "k=6\t1.00\n",
      "k=7\t1.00\n",
      "k=8\t1.00\n",
      "k=9\t1.00\n",
      "\n",
      "digits\n",
      "k=1\t0.99\n",
      "k=2\t0.99\n",
      "k=3\t0.99\n",
      "k=4\t0.99\n",
      "k=5\t0.99\n",
      "k=6\t0.99\n",
      "k=7\t0.99\n",
      "k=8\t0.99\n",
      "k=9\t0.99\n",
      "k=10\t0.99\n",
      "k=11\t0.99\n",
      "k=12\t0.99\n",
      "k=13\t0.98\n",
      "k=14\t0.99\n",
      "k=15\t0.98\n",
      "k=16\t0.99\n",
      "k=17\t0.99\n",
      "k=18\t0.99\n",
      "k=19\t0.99\n",
      "k=20\t0.99\n",
      "k=21\t0.98\n",
      "k=22\t0.98\n",
      "k=23\t0.98\n",
      "k=24\t0.98\n",
      "k=25\t0.98\n",
      "k=26\t0.98\n",
      "k=27\t0.98\n",
      "k=28\t0.98\n",
      "k=29\t0.97\n"
     ]
    }
   ],
   "source": [
    "# kの違いによる精度の変化\n",
    "print(\"iris\")\n",
    "for k in range(1,10):\n",
    "  model = KNeighborsClassifier(n_neighbors=k)\n",
    "  model.fit(iris_train_data, iris_train_target)\n",
    "  print(f\"k={k}\\t{model.score(iris_test_data, iris_test_target):.2f}\")\n",
    "\n",
    "print()\n",
    "\n",
    "print(\"digits\")\n",
    "for k in range(1,30):\n",
    "  model = KNeighborsClassifier(n_neighbors=k)\n",
    "  model.fit(digits_train_data, digits_train_target)\n",
    "  print(f\"k={k}\\t{model.score(digits_test_data, digits_test_target):.2f}\")"
   ]
  },
  {
   "cell_type": "markdown",
   "metadata": {
    "colab_type": "text",
    "id": "mBYbWWbK9ogl"
   },
   "source": [
    "+ メリット\n",
    "  + 発想がシンプルでわかりやすい\n",
    "  + ハイパパラメータ(自分で手動で決める値)がkのみ\n",
    "  + 学習するパラメータはない\n",
    "+ デメリット\n",
    "  + 次元が大きすぎるとうまくいかない\n",
    "  + データ数が多くなると近傍探索をがんばらないといけない"
   ]
  }
 ],
 "metadata": {
  "colab": {
   "collapsed_sections": [],
   "name": "sklearn.ipynb",
   "provenance": []
  },
  "kernelspec": {
   "display_name": "Python 3",
   "language": "python",
   "name": "python3"
  },
  "language_info": {
   "codemirror_mode": {
    "name": "ipython",
    "version": 3
   },
   "file_extension": ".py",
   "mimetype": "text/x-python",
   "name": "python",
   "nbconvert_exporter": "python",
   "pygments_lexer": "ipython3",
   "version": "3.7.3"
  }
 },
 "nbformat": 4,
 "nbformat_minor": 4
}
